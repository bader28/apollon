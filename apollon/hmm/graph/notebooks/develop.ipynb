{
 "cells": [
  {
   "cell_type": "code",
   "execution_count": 1,
   "metadata": {},
   "outputs": [
    {
     "name": "stdout",
     "output_type": "stream",
     "text": [
      "Populating the interactive namespace from numpy and matplotlib\n"
     ]
    }
   ],
   "source": [
    "%pylab inline"
   ]
  },
  {
   "cell_type": "code",
   "execution_count": 2,
   "metadata": {},
   "outputs": [],
   "source": [
    "import networkx as nx\n",
    "from scipy.spatial import distance"
   ]
  },
  {
   "cell_type": "code",
   "execution_count": 3,
   "metadata": {},
   "outputs": [],
   "source": [
    "from matplotlib.patches import ArrowStyle\n",
    "from matplotlib.patches import Circle\n",
    "from matplotlib.patches import ConnectionStyle\n",
    "from matplotlib.patches import FancyArrowPatch\n",
    "\n",
    "from matplotlib import cm"
   ]
  },
  {
   "cell_type": "code",
   "execution_count": 10,
   "metadata": {},
   "outputs": [],
   "source": [
    "A = array([[.0, .1, .9, .0],\n",
    "           [.0, .0, 0.,1.],\n",
    "           [0., 0., 0., 1],\n",
    "           [1., .0, .0, 0.]])\n",
    "\n",
    "#A = abs(randn(4,4))\n",
    "b = array([80, 400, 200, 500])"
   ]
  },
  {
   "cell_type": "code",
   "execution_count": 4,
   "metadata": {},
   "outputs": [],
   "source": [
    "def _prepare_fig(pos):    \n",
    "\n",
    "    pos_data = np.array(list(pos.values()))\n",
    "    diameter = distance.pdist(pos_data).max()\n",
    "    dd = diameter / 2 + 1\n",
    "    \n",
    "    fig = figure(figsize=(7+3, 7), frameon=False)\n",
    "    ax = fig.add_subplot(111)\n",
    "    ax.axis([-dd, dd+3, -dd, dd])\n",
    "    #ax.set_axis_off()\n",
    "\n",
    "    return ax"
   ]
  },
  {
   "cell_type": "code",
   "execution_count": 5,
   "metadata": {},
   "outputs": [],
   "source": [
    "def _draw_nodes(G, pos, ax):\n",
    "    \n",
    "    indegree = array([deg for node, deg in G.in_degree], dtype=float)\n",
    "    indegree /= indegree.sum()\n",
    "\n",
    "    outdegree = array([deg for node, deg in G.out_degree], dtype=float)\n",
    "    outdegree /= outdegree.sum()\n",
    "\n",
    "    \n",
    "    flare_kwargs = {'alpha'    : 0.2,\n",
    "                    'edgecolor': (0., 0., 0., 1.),\n",
    "                    'facecolor': None}\n",
    "                  \n",
    "    node_kwargs = {'alpha'    : 0.7,\n",
    "                   'edgecolor': (0., 0., 0., 1.),\n",
    "                   'facecolor': None,\n",
    "                   'linewidth': 1}\n",
    "    \n",
    "    nodes = {}\n",
    "    node_params = zip(pos.items(), indegree, outdegree)\n",
    "    \n",
    "    for i, ((label, xy), d_in, d_out) in enumerate(node_params):\n",
    "        \n",
    "        flare_kwargs['facecolor'] = 'C{}'.format(i)\n",
    "        flare = Circle(xy, d_in + d_out, **flare_kwargs)\n",
    "        \n",
    "        node_kwargs['facecolor'] = 'C{}'.format(i)\n",
    "        node = Circle(xy, d_in, **node_kwargs)\n",
    "        \n",
    "        ax.add_patch(flare)\n",
    "        ax.add_patch(node)        \n",
    "\n",
    "        font_style = {'size':15, 'weight':'bold'}\n",
    "        text_kwargs = {'color': (0, 0, 0, .8),\n",
    "                       'verticalalignment': 'center',\n",
    "                       'horizontalalignment': 'center',\n",
    "                       'fontdict': font_style}\n",
    "        ax.text(*xy, i+1, **text_kwargs)\n",
    "        \n",
    "        nodes[label] = node\n",
    "\n",
    "    return nodes"
   ]
  },
  {
   "cell_type": "code",
   "execution_count": 6,
   "metadata": {},
   "outputs": [],
   "source": [
    "def _draw_edges(G, pos, nodes, ax):\n",
    "    \n",
    "    pointer = ArrowStyle.Simple(head_width=12, head_length=20)\n",
    "    curved_edge = ConnectionStyle('arc3', rad=.2)\n",
    "    \n",
    "    arrow_kwargs = {'arrowstyle': pointer,\n",
    "                    'connectionstyle': curved_edge,\n",
    "                    'edgecolor': (0., 0., 0., .7),\n",
    "                    'facecolor': (0., 0., 0., .7)}\n",
    "    \n",
    "    weights = array([w['weight'] for w in G.edges.values()])\n",
    "    weights = exp(weights)\n",
    "   \n",
    "    cn = ((a, b, w) for ((a, b, attr), w) in zip(G.edges.data(), weights))\n",
    "    \n",
    "    edges = {}\n",
    "    for i, (a, b, w) in enumerate(cn):\n",
    "        edge = FancyArrowPatch(pos[a], pos[b], \n",
    "                               patchA=nodes[a], patchB=nodes[b],\n",
    "                               linewidth=w, **arrow_kwargs)\n",
    "\n",
    "        ax.add_patch(edge)\n",
    "        edges[(a, b)] = edge\n",
    "        \n",
    "    return edges"
   ]
  },
  {
   "cell_type": "code",
   "execution_count": 7,
   "metadata": {},
   "outputs": [],
   "source": [
    "def _legend(G, nodes, ax):\n",
    "    legend_kwargs = {'fancybox': True, \n",
    "                     'fontsize': 14,\n",
    "                     'bbox_to_anchor': (1.02, 1.0)}\n",
    "    \n",
    "    labels = [r'$f_c = {}$ Hz'.format(k) for k in G.nodes.keys()]\n",
    "    ax.legend(nodes.values(), labels, **legend_kwargs, borderaxespad=0)"
   ]
  },
  {
   "cell_type": "code",
   "execution_count": 8,
   "metadata": {
    "scrolled": false
   },
   "outputs": [],
   "source": [
    "def draw_hmm(lambda_, gamma_):\n",
    "    \n",
    "    G = nx.MultiDiGraph()\n",
    "    \n",
    "    for i, from_state in enumerate(lambda_):\n",
    "        G.add_node(from_state)\n",
    "        for j, to_state in enumerate(lambda_):\n",
    "            if A[i, j] != 0:\n",
    "                G.add_edge(from_state, to_state, weight=A[i,j])\n",
    "            \n",
    "    pos = nx.layout.circular_layout(G, center=(0., 0.), scale=1.5)\n",
    "\n",
    "    ax = _prepare_fig(pos)\n",
    "    nodes = _draw_nodes(G, pos, ax)\n",
    "    edges = _draw_edges(G, pos, nodes, ax)\n",
    "    _legend(G, nodes, ax)\n",
    "    \n",
    "    return ax"
   ]
  },
  {
   "cell_type": "code",
   "execution_count": 11,
   "metadata": {
    "scrolled": false
   },
   "outputs": [
    {
     "data": {
      "image/png": "[encoded data removed]",
      "text/plain": [
       "<Figure size 720x504 with 1 Axes>"
      ]
     },
     "metadata": {},
     "output_type": "display_data"
    }
   ],
   "source": [
    "ax = draw_hmm(b, A)\n",
    "#savefig('data/example.png')"
   ]
  },
  {
   "cell_type": "code",
   "execution_count": null,
   "metadata": {},
   "outputs": [],
   "source": []
  },
  {
   "cell_type": "code",
   "execution_count": null,
   "metadata": {},
   "outputs": [],
   "source": []
  },
  {
   "cell_type": "code",
   "execution_count": null,
   "metadata": {},
   "outputs": [],
   "source": []
  },
  {
   "cell_type": "code",
   "execution_count": 990,
   "metadata": {},
   "outputs": [
    {
     "data": {
      "image/png": "[encoded data removed]",
      "text/plain": [
       "<Figure size 432x288 with 1 Axes>"
      ]
     },
     "metadata": {},
     "output_type": "display_data"
    }
   ],
   "source": [
    "fig, ax = subplots(1)\n",
    "ax.imshow(A)\n",
    "\n",
    "\n",
    "\n",
    "# We want to show all ticks...\n",
    "ax.set_xticks(np.arange(A.shape[1]))\n",
    "ax.set_yticks(np.arange(A.shape[0]))\n",
    "# ... and label them with the respective list entries.\n",
    "ax.set_xticklabels(range(4))\n",
    "ax.set_yticklabels(range(4))\n",
    "\n",
    "# Let the horizontal axes labeling appear on top.\n",
    "ax.tick_params(top=True, bottom=False,\n",
    "               labeltop=True, labelbottom=False)\n",
    "\n",
    "# Rotate the tick labels and set their alignment.\n",
    "plt.setp(ax.get_xticklabels(), rotation=-30, ha=\"right\",\n",
    "         rotation_mode=\"anchor\")\n",
    "\n",
    "# Turn spines off and create white grid.\n",
    "for edge, spine in ax.spines.items():\n",
    "    spine.set_visible(False)\n",
    "\n",
    "ax.set_xticks(np.arange(A.shape[1]+1)-.5, minor=True)\n",
    "ax.set_yticks(np.arange(A.shape[0]+1)-.5, minor=True)\n",
    "ax.grid(which=\"minor\", color=\"w\", linestyle='-', linewidth=3)\n",
    "ax.tick_params(which=\"minor\", bottom=False, left=False)\n",
    "\n",
    "\n",
    "ax.grid(which=\"minor\", color=\"w\", linestyle='-', linewidth=3)\n",
    "ax.tick_params(which=\"minor\", bottom=False, left=False)\n",
    "\n",
    "ax.tick_params(top=True, bottom=False,\n",
    "               labeltop=True, labelbottom=False)"
   ]
  },
  {
   "cell_type": "code",
   "execution_count": 597,
   "metadata": {},
   "outputs": [
    {
     "data": {
      "text/plain": [
       "KeysView(OutMultiEdgeView([(80, 400, 0), (80, 200, 0), (400, 500, 0), (200, 500, 0), (500, 80, 0)]))"
      ]
     },
     "execution_count": 597,
     "metadata": {},
     "output_type": "execute_result"
    }
   ],
   "source": [
    "g.edges.keys()\n"
   ]
  },
  {
   "cell_type": "code",
   "execution_count": 1,
   "metadata": {},
   "outputs": [],
   "source": [
    "import matplotlib.pyplot as plt\n"
   ]
  },
  {
   "cell_type": "code",
   "execution_count": null,
   "metadata": {},
   "outputs": [],
   "source": []
  },
  {
   "cell_type": "code",
   "execution_count": null,
   "metadata": {},
   "outputs": [],
   "source": []
  },
  {
   "cell_type": "code",
   "execution_count": null,
   "metadata": {},
   "outputs": [],
   "source": []
  },
  {
   "cell_type": "code",
   "execution_count": null,
   "metadata": {},
   "outputs": [],
   "source": []
  },
  {
   "cell_type": "code",
   "execution_count": null,
   "metadata": {},
   "outputs": [],
   "source": []
  }
 ],
 "metadata": {
  "kernelspec": {
   "display_name": "Python 3",
   "language": "python",
   "name": "python3"
  },
  "language_info": {
   "codemirror_mode": {
    "name": "ipython",
    "version": 3
   },
   "file_extension": ".py",
   "mimetype": "text/x-python",
   "name": "python",
   "nbconvert_exporter": "python",
   "pygments_lexer": "ipython3",
   "version": "3.7.0"
  }
 },
 "nbformat": 4,
 "nbformat_minor": 2
}
