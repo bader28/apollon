{
 "cells": [
  {
   "cell_type": "code",
   "execution_count": 1,
   "metadata": {},
   "outputs": [
    {
     "name": "stdout",
     "output_type": "stream",
     "text": [
      "Populating the interactive namespace from numpy and matplotlib\n"
     ]
    }
   ],
   "source": [
    "%pylab inline"
   ]
  },
  {
   "cell_type": "code",
   "execution_count": 2,
   "metadata": {},
   "outputs": [],
   "source": [
    "%load_ext autoreload\n",
    "%autoreload 2"
   ]
  },
  {
   "cell_type": "code",
   "execution_count": 104,
   "metadata": {},
   "outputs": [],
   "source": [
    "import pandas as pd\n",
    "import numpy as _np"
   ]
  },
  {
   "cell_type": "code",
   "execution_count": 113,
   "metadata": {},
   "outputs": [],
   "source": [
    "import warnings"
   ]
  },
  {
   "cell_type": "code",
   "execution_count": 114,
   "metadata": {},
   "outputs": [],
   "source": [
    "warnings.filterwarnings('error')"
   ]
  },
  {
   "cell_type": "code",
   "execution_count": 93,
   "metadata": {},
   "outputs": [],
   "source": [
    "m = 4\n",
    "\n",
    "x = concatenate((poisson(10, 100), poisson(20, 100), poisson(30, 100), poisson(40, 100)))\n",
    "\n",
    "_lambda = linspace(x.min(), x.max(), 4, endpoint=True)\n",
    "_gamma = array([[.6, .2, .15, .05],\n",
    "                [.05, .6, .2, .15],\n",
    "                [.15, .05, .6, .2],\n",
    "                [.2, .15, .05, .6]])\n",
    "_delta = repeat(1/m, m)"
   ]
  },
  {
   "cell_type": "code",
   "execution_count": 101,
   "metadata": {},
   "outputs": [],
   "source": [
    "from fwbw import forward_backward1\n",
    "from fwbw import forward_backward2\n"
   ]
  },
  {
   "cell_type": "code",
   "execution_count": 108,
   "metadata": {},
   "outputs": [],
   "source": [
    "from scipy.special import logsumexp as _logsumexp\n",
    "\n",
    "\n",
    "def EM(x, m, theta, meth, maxiter=1000, tol=1e-6):\n",
    "    \"\"\"Estimate the parameters of an m-state PoissonHMM.\n",
    "\n",
    "    Params:\n",
    "        x           (np.ndarray)    One-dimensional array of integer values.\n",
    "        theta       (tuple)         Initial guesses (lambda, gamma, delta).\n",
    "        maxiter     (int)           Mmaximum number of EM iterations.\n",
    "        tol         (float)         Convergence criterion.\n",
    "    \"\"\"\n",
    "    n = len(x)\n",
    "\n",
    "    this_lambda = theta[0].copy()\n",
    "    this_gamma = theta[1].copy()\n",
    "    this_delta = theta[2].copy()\n",
    "\n",
    "    next_lambda = theta[0].copy()\n",
    "    next_gamma = theta[1].copy()\n",
    "    next_delta = theta[2].copy()\n",
    "\n",
    "    for i in range(maxiter):\n",
    "        alpha, beta, prob = meth(x, m, this_lambda, this_gamma, this_delta)\n",
    "\n",
    "        c = max(alpha[-1])\n",
    "        log_likelihood = c + _logsumexp(alpha[-1] - c)\n",
    "\n",
    "        for j in range(m):\n",
    "            for k in range(m):\n",
    "                next_gamma[j, k] *= _np.sum(_np.exp(alpha[:n-1, j] +\n",
    "                                            beta[1:n, k] +\n",
    "                                            prob[1:n, k] -\n",
    "                                            log_likelihood))\n",
    "        next_gamma /= _np.sum(next_gamma, axis=1)\n",
    "\n",
    "        rab = _np.exp(alpha + beta - log_likelihood)\n",
    "        next_lambda = (rab * x[:, None]).sum(axis=0) / rab.sum(axis=0)\n",
    "\n",
    "        next_delta = rab[0] / rab[0].sum()\n",
    "\n",
    "        crit = (_np.abs(this_lambda - next_lambda).sum() +\n",
    "                _np.abs(this_gamma - next_gamma).sum()  +\n",
    "                _np.abs(this_delta - next_delta).sum())\n",
    "\n",
    "        if crit < tol:\n",
    "            return this_lambda, this_gamma, this_delta, i, log_likelihood\n",
    "\n",
    "        this_lambda = next_lambda.copy()\n",
    "        this_gamma = next_gamma.copy()\n",
    "        this_delta = next_delta.copy()\n",
    "\n",
    "    return False\n",
    "\n"
   ]
  },
  {
   "cell_type": "code",
   "execution_count": 116,
   "metadata": {},
   "outputs": [
    {
     "name": "stdout",
     "output_type": "stream",
     "text": [
      "[4.69823803e-04 9.99407157e-01 1.23018020e-04 6.94159073e-10]\n",
      "[2.82557866e-05 9.99971743e-01 1.01087810e-09 8.65433751e-18]\n",
      "[2.02266737e-06 9.99997977e-01 8.11323256e-15 1.18436236e-26]\n",
      "[1.99746148e-06 9.99998003e-01 5.52751427e-20 6.43414717e-36]\n",
      "[2.12895256e-05 9.99978710e-01 2.49772607e-25 2.11337553e-45]\n",
      "[1.38069451e-03 9.98619305e-01 1.07847381e-30 6.02474165e-55]\n",
      "[1.71342419e-01 8.28657581e-01 5.99812401e-36 1.50157070e-64]\n",
      "[9.73947735e-01 2.60522647e-02 2.10830913e-42 1.05183353e-75]\n",
      "[9.99987169e-01 1.28307138e-05 1.08704099e-50 3.74250609e-89]\n",
      "[1.00000000e+000 1.30612649e-010 6.62880952e-061 4.19452857e-105]\n",
      "[1.00000000e+000 2.74489739e-017 4.36897270e-073 6.47451439e-124]\n",
      "[1.00000000e+000 1.20163175e-025 3.06714357e-087 5.62550389e-146]\n",
      "[1.00000000e+000 1.10392399e-035 2.20686680e-103 1.78053083e-171]\n",
      "[1.00000000e+000 2.13725545e-047 1.57795267e-121 2.12422476e-200]\n",
      "[1.00000000e+000 8.73895146e-061 1.10185549e-141 1.08426502e-232]\n",
      "[1.00000000e+000 7.55438385e-076 7.44875390e-164 2.66386233e-268]\n",
      "[1.00000000e+000 1.38129464e-092 4.85482097e-188 3.41483749e-307]\n",
      "[1.00000000e+000 5.34340511e-111 3.04480859e-214 0.00000000e+000]\n"
     ]
    },
    {
     "ename": "RuntimeWarning",
     "evalue": "divide by zero encountered in log",
     "output_type": "error",
     "traceback": [
      "\u001b[0;31m---------------------------------------------------------------------------\u001b[0m",
      "\u001b[0;31mRuntimeWarning\u001b[0m                            Traceback (most recent call last)",
      "\u001b[0;32m<ipython-input-116-b602f447d809>\u001b[0m in \u001b[0;36m<module>\u001b[0;34m()\u001b[0m\n\u001b[0;32m----> 1\u001b[0;31m \u001b[0mout\u001b[0m \u001b[0;34m=\u001b[0m \u001b[0mEM\u001b[0m\u001b[0;34m(\u001b[0m\u001b[0mx\u001b[0m\u001b[0;34m,\u001b[0m \u001b[0mm\u001b[0m\u001b[0;34m,\u001b[0m \u001b[0;34m(\u001b[0m\u001b[0m_lambda\u001b[0m\u001b[0;34m,\u001b[0m \u001b[0m_gamma\u001b[0m\u001b[0;34m,\u001b[0m \u001b[0m_delta\u001b[0m\u001b[0;34m)\u001b[0m\u001b[0;34m,\u001b[0m \u001b[0mforward_backward1\u001b[0m\u001b[0;34m)\u001b[0m\u001b[0;34m\u001b[0m\u001b[0m\n\u001b[0m",
      "\u001b[0;32m<ipython-input-108-c2c7c2acdfbc>\u001b[0m in \u001b[0;36mEM\u001b[0;34m(x, m, theta, meth, maxiter, tol)\u001b[0m\n\u001b[1;32m     22\u001b[0m \u001b[0;34m\u001b[0m\u001b[0m\n\u001b[1;32m     23\u001b[0m     \u001b[0;32mfor\u001b[0m \u001b[0mi\u001b[0m \u001b[0;32min\u001b[0m \u001b[0mrange\u001b[0m\u001b[0;34m(\u001b[0m\u001b[0mmaxiter\u001b[0m\u001b[0;34m)\u001b[0m\u001b[0;34m:\u001b[0m\u001b[0;34m\u001b[0m\u001b[0m\n\u001b[0;32m---> 24\u001b[0;31m         \u001b[0malpha\u001b[0m\u001b[0;34m,\u001b[0m \u001b[0mbeta\u001b[0m\u001b[0;34m,\u001b[0m \u001b[0mprob\u001b[0m \u001b[0;34m=\u001b[0m \u001b[0mmeth\u001b[0m\u001b[0;34m(\u001b[0m\u001b[0mx\u001b[0m\u001b[0;34m,\u001b[0m \u001b[0mm\u001b[0m\u001b[0;34m,\u001b[0m \u001b[0mthis_lambda\u001b[0m\u001b[0;34m,\u001b[0m \u001b[0mthis_gamma\u001b[0m\u001b[0;34m,\u001b[0m \u001b[0mthis_delta\u001b[0m\u001b[0;34m)\u001b[0m\u001b[0;34m\u001b[0m\u001b[0m\n\u001b[0m\u001b[1;32m     25\u001b[0m \u001b[0;34m\u001b[0m\u001b[0m\n\u001b[1;32m     26\u001b[0m         \u001b[0mc\u001b[0m \u001b[0;34m=\u001b[0m \u001b[0mmax\u001b[0m\u001b[0;34m(\u001b[0m\u001b[0malpha\u001b[0m\u001b[0;34m[\u001b[0m\u001b[0;34m-\u001b[0m\u001b[0;36m1\u001b[0m\u001b[0;34m]\u001b[0m\u001b[0;34m)\u001b[0m\u001b[0;34m\u001b[0m\u001b[0m\n",
      "\u001b[0;32m~/devel/repos/apollon/apollon/hmm/fwbw.py\u001b[0m in \u001b[0;36mforward_backward1\u001b[0;34m(x, m, _lambda, _gamma, _delta)\u001b[0m\n\u001b[1;32m     29\u001b[0m     \u001b[0;31m# set first forward prob\u001b[0m\u001b[0;34m\u001b[0m\u001b[0;34m\u001b[0m\u001b[0m\n\u001b[1;32m     30\u001b[0m     \u001b[0mprint\u001b[0m\u001b[0;34m(\u001b[0m\u001b[0ma_t\u001b[0m\u001b[0;34m)\u001b[0m\u001b[0;34m\u001b[0m\u001b[0m\n\u001b[0;32m---> 31\u001b[0;31m     \u001b[0malpha\u001b[0m\u001b[0;34m[\u001b[0m\u001b[0;36m0\u001b[0m\u001b[0;34m]\u001b[0m \u001b[0;34m=\u001b[0m \u001b[0m_np\u001b[0m\u001b[0;34m.\u001b[0m\u001b[0mlog\u001b[0m\u001b[0;34m(\u001b[0m\u001b[0ma_t\u001b[0m\u001b[0;34m)\u001b[0m \u001b[0;34m+\u001b[0m \u001b[0mlscale\u001b[0m\u001b[0;34m\u001b[0m\u001b[0m\n\u001b[0m\u001b[1;32m     32\u001b[0m \u001b[0;34m\u001b[0m\u001b[0m\n\u001b[1;32m     33\u001b[0m     \u001b[0;31m# start recursion\u001b[0m\u001b[0;34m\u001b[0m\u001b[0;34m\u001b[0m\u001b[0m\n",
      "\u001b[0;31mRuntimeWarning\u001b[0m: divide by zero encountered in log"
     ]
    }
   ],
   "source": [
    "out = EM(x, m, (_lambda, _gamma, _delta), forward_backward1)"
   ]
  },
  {
   "cell_type": "code",
   "execution_count": 112,
   "metadata": {},
   "outputs": [
    {
     "name": "stderr",
     "output_type": "stream",
     "text": [
      "/Users/michael/devel/repos/apollon/apollon/hmm/fwbw.py:75: RuntimeWarning: divide by zero encountered in log\n",
      "  alpha[0] = _np.log(a_t) + lscale\n",
      "/Users/michael/devel/repos/apollon/apollon/hmm/fwbw.py:83: RuntimeWarning: divide by zero encountered in log\n",
      "  alpha[i] = _np.log(a_t) + lscale\n"
     ]
    }
   ],
   "source": [
    "out = EM(x, m, (_lambda, _gamma, _delta), forward_backward2)\n"
   ]
  },
  {
   "cell_type": "code",
   "execution_count": null,
   "metadata": {},
   "outputs": [],
   "source": []
  }
 ],
 "metadata": {
  "kernelspec": {
   "display_name": "Python 3",
   "language": "python",
   "name": "python3"
  },
  "language_info": {
   "codemirror_mode": {
    "name": "ipython",
    "version": 3
   },
   "file_extension": ".py",
   "mimetype": "text/x-python",
   "name": "python",
   "nbconvert_exporter": "python",
   "pygments_lexer": "ipython3",
   "version": "3.7.0"
  }
 },
 "nbformat": 4,
 "nbformat_minor": 2
}
